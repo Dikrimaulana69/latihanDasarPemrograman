{
 "cells": [
  {
   "cell_type": "code",
   "execution_count": 1,
   "id": "cf2ba425",
   "metadata": {},
   "outputs": [
    {
     "name": "stdout",
     "output_type": "stream",
     "text": [
      "Masukan Hobi Anda : Billiard\n",
      "Masukan Nama Anda : Dikri Maulana\n",
      "Hobi anda Billiard\n",
      "Nama anda D\n"
     ]
    }
   ],
   "source": [
    "#Latihan 1 Input\n",
    "hobi = input(\"Masukan Hobi Anda : \")\n",
    "nama = input(\"Masukan Nama Anda : \")\n",
    "\n",
    "print (f\"Hobi anda {hobi}\")\n",
    "print (f\"Nama anda {nama[0]}\")"
   ]
  },
  {
   "cell_type": "code",
   "execution_count": 2,
   "id": "261b890e",
   "metadata": {},
   "outputs": [
    {
     "name": "stdout",
     "output_type": "stream",
     "text": [
      "Berapakah hasil perkalian 20 dan 76 : 3274\n",
      "Jawaban anda False\n"
     ]
    }
   ],
   "source": [
    "#Random Bilangan\n",
    "from random import randint\n",
    "angka1 = randint(0,100)\n",
    "angka2 = randint(0,100)\n",
    "\n",
    "hasil = int(input(f\"Berapakah hasil perkalian {angka1} dan {angka2} : \"))\n",
    "print(f\"Jawaban anda {hasil==angka1 * angka2}\")"
   ]
  },
  {
   "cell_type": "code",
   "execution_count": 3,
   "id": "e13c70c5",
   "metadata": {},
   "outputs": [
    {
     "name": "stdout",
     "output_type": "stream",
     "text": [
      "Belajar\n",
      "ajar\n",
      "Pemrograman\n",
      "gram\n",
      "Python\n",
      "Py\n",
      "graman Python\n",
      "Pemrograman Python\n"
     ]
    }
   ],
   "source": [
    "#String\n",
    "Dikri = \"Belajar Pemrograman Python\"\n",
    "print(Dikri[0:7])\n",
    "print(Dikri[3:7])\n",
    "print(Dikri[8:19])\n",
    "print(Dikri[13:17])\n",
    "print(Dikri[20:26])\n",
    "print(Dikri[20:22])\n",
    "print(Dikri[13:26])\n",
    "print(Dikri[8:26])"
   ]
  },
  {
   "cell_type": "code",
   "execution_count": 4,
   "id": "0f2934ec",
   "metadata": {},
   "outputs": [
    {
     "name": "stdout",
     "output_type": "stream",
     "text": [
      "Kasus contoh:\n",
      "dikrimaulana@gmailcom => False\n",
      "dikrimaulana@gmail.com => True\n",
      "dikri.maulana@gmail.com => False\n",
      "dikrimaulana.gmail.com => False\n",
      "dikri.maulana@gmailcom => False\n",
      "\n",
      "Masukan email: dikrimaulana@gmail.com\n",
      "dikrimaulana@gmail.com => True\n"
     ]
    }
   ],
   "source": [
    "#String Method\n",
    "def isEmailValid(email):\n",
    "    content = email.split(\"@\")\n",
    "\n",
    "    haveNoSpace = email.find(\" \") == -1\n",
    "\n",
    "    isContent = len(content) == 2\n",
    "\n",
    "    isIdentifier = content[0].isidentifier()\n",
    "\n",
    "    isDomain = len(content) == 2 and content[1].find(\".\") != -1 and (not content[1].startswith(\".\")) and (not content[1].endswith(\".\"))\n",
    "    \n",
    "    return haveNoSpace and isContent and isIdentifier and isDomain\n",
    "\n",
    "emails = [\"dikrimaulana@gmailcom\", \"dikrimaulana@gmail.com\", \"dikri.maulana@gmail.com\", \"dikrimaulana.gmail.com\", \"dikri.maulana@gmailcom\"]\n",
    "print(\"Kasus contoh:\")\n",
    "for email in emails:\n",
    "    isValid = isEmailValid(email)\n",
    "    print(f\"{email} => {isValid}\")\n",
    "\n",
    "print()\n",
    "email_input = input(\"Masukan email: \")\n",
    "is_email_input_valid = isEmailValid(email_input)\n",
    "print(f\"{email_input} => {is_email_input_valid}\")"
   ]
  },
  {
   "cell_type": "code",
   "execution_count": null,
   "id": "b30f0661",
   "metadata": {},
   "outputs": [],
   "source": []
  }
 ],
 "metadata": {
  "kernelspec": {
   "display_name": "Python 3 (ipykernel)",
   "language": "python",
   "name": "python3"
  },
  "language_info": {
   "codemirror_mode": {
    "name": "ipython",
    "version": 3
   },
   "file_extension": ".py",
   "mimetype": "text/x-python",
   "name": "python",
   "nbconvert_exporter": "python",
   "pygments_lexer": "ipython3",
   "version": "3.9.12"
  }
 },
 "nbformat": 4,
 "nbformat_minor": 5
}
